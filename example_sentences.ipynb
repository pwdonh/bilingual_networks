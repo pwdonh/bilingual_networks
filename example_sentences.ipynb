{
 "cells": [
  {
   "cell_type": "code",
   "execution_count": 1,
   "id": "ba7eb24f",
   "metadata": {},
   "outputs": [],
   "source": [
    "import torch\n",
    "import pandas as pd\n",
    "import os.path as op\n",
    "import numpy as np\n",
    "import matplotlib.pyplot as plt\n",
    "from plotly import graph_objects as go\n",
    "import plotly.express as px\n",
    "\n",
    "from proc_1_representation import phoneme_representations\n",
    "from figure_2_representation import figure_adjustments_trace\n",
    "from data import read_config, CollateItems\n",
    "from main import setup_pretraining\n",
    "import soundfile as sf"
   ]
  },
  {
   "cell_type": "code",
   "execution_count": 2,
   "id": "f701f5a4",
   "metadata": {},
   "outputs": [],
   "source": [
    "datapath = './data/'\n",
    "num_workers = 1\n",
    "is_cpu = True\n",
    "sfreq = 100\n",
    "num_smooth = 3\n",
    "df_words = pd.read_csv('data/words.csv',index_col=0)\n",
    "df_phonemes = pd.read_csv('data/phonemes.csv',index_col=0)"
   ]
  },
  {
   "cell_type": "code",
   "execution_count": 3,
   "id": "d9a387bd",
   "metadata": {},
   "outputs": [],
   "source": [
    "config_path = f'experiments/commonvoice_fren_phonemes_words.cfg'"
   ]
  },
  {
   "cell_type": "code",
   "execution_count": 4,
   "id": "57828250",
   "metadata": {},
   "outputs": [
    {
     "name": "stdout",
     "output_type": "stream",
     "text": [
      "en/sentences/sentence_en_C_16khz\n",
      "fr/sentences/sentence_fr_A_16khz\n"
     ]
    }
   ],
   "source": [
    "# The training/validation/test data can be specified in a text file as in the following\n",
    "example_manifest = 'sentences.txt' # Sentences generated with Google TTS\n",
    "\n",
    "with open(op.join(datapath, example_manifest)) as f:\n",
    "    print(f.read())"
   ]
  },
  {
   "cell_type": "code",
   "execution_count": 5,
   "id": "cf0769eb",
   "metadata": {},
   "outputs": [
    {
     "name": "stderr",
     "output_type": "stream",
     "text": [
      "100%|██████████| 2/2 [00:00<00:00, 16844.59it/s]\n",
      "100%|██████████| 2/2 [00:00<00:00, 18558.87it/s]\n"
     ]
    },
    {
     "data": {
      "text/plain": [
       "ASRSpecNet(\n",
       "  (feat): Sequential(\n",
       "    (0): Sequential(\n",
       "      (0): STFT(fft_length=1024, hop_length=160, win_length=None)(center=True, pad_mode=reflect, normalized=False, onesided=True)\n",
       "      (1): ComplexNorm(power=2.0)\n",
       "      (2): ApplyFilterbank()\n",
       "    )\n",
       "    (1): AmplitudeToDb()\n",
       "    (2): SelectMels()\n",
       "  )\n",
       "  (convnet): Sequential(\n",
       "    (0): Conv1d(128, 64, kernel_size=(1,), stride=(1,), bias=False)\n",
       "    (1): BatchNorm1d(64, eps=1e-05, momentum=0.1, affine=True, track_running_stats=True)\n",
       "    (2): LeakyReLU(negative_slope=0.01)\n",
       "    (3): Conv1d(64, 128, kernel_size=(3,), stride=(1,), padding=(1,), bias=False)\n",
       "    (4): BatchNorm1d(128, eps=1e-05, momentum=0.1, affine=True, track_running_stats=True)\n",
       "    (5): LeakyReLU(negative_slope=0.01)\n",
       "    (6): Conv1d(128, 128, kernel_size=(3,), stride=(1,), padding=(1,), bias=False)\n",
       "    (7): BatchNorm1d(128, eps=1e-05, momentum=0.1, affine=True, track_running_stats=True)\n",
       "    (8): LeakyReLU(negative_slope=0.01)\n",
       "  )\n",
       "  (ncl2nlc): NCL2NLC()\n",
       "  (drop): Dropout(p=0.5, inplace=False)\n",
       "  (rnn_phone): GRU(132, 256, batch_first=True)\n",
       "  (phone_linear): Linear(in_features=256, out_features=131, bias=True)\n",
       "  (homologe_linear): Linear(in_features=256, out_features=61, bias=True)\n",
       "  (rnn_word): GRU(256, 256, batch_first=True)\n",
       "  (word_linear): Linear(in_features=256, out_features=12001, bias=True)\n",
       "  (language): Embedding(4, 4)\n",
       ")"
      ]
     },
     "execution_count": 5,
     "metadata": {},
     "output_type": "execute_result"
    }
   ],
   "source": [
    "# Read configuration file\n",
    "config = read_config(config_path)\n",
    "# Overwrite config file to use the example sentences\n",
    "config.pretraining_manifest_train = example_manifest\n",
    "config.pretraining_manifest_dev = example_manifest\n",
    "config.pretraining_manifest_test = example_manifest\n",
    "# Load model and datasets\n",
    "trainer, train_dataset, valid_dataset, test_dataset = setup_pretraining(\n",
    "    config, datapath, num_workers, is_cpu\n",
    ")\n",
    "words = np.concatenate(test_dataset.Sy_word+[['']])\n",
    "phonemes = np.concatenate(test_dataset.Sy_phoneme)\n",
    "trainer.load_checkpoint()\n",
    "trainer.model.eval()"
   ]
  },
  {
   "cell_type": "code",
   "execution_count": 6,
   "id": "6de84fdb",
   "metadata": {},
   "outputs": [
    {
     "data": {
      "text/plain": [
       "[<matplotlib.lines.Line2D at 0x7b8f4c9f4ca0>]"
      ]
     },
     "execution_count": 6,
     "metadata": {},
     "output_type": "execute_result"
    },
    {
     "data": {
      "image/png": "[encoded data removed]",
      "text/plain": [
       "<Figure size 640x480 with 1 Axes>"
      ]
     },
     "metadata": {},
     "output_type": "display_data"
    }
   ],
   "source": [
    "# Plot audio signal of the first (English) sentence\n",
    "fig, ax = plt.subplots()\n",
    "ax.plot(test_dataset[0][0])"
   ]
  },
  {
   "cell_type": "code",
   "execution_count": 7,
   "id": "818429ff",
   "metadata": {},
   "outputs": [
    {
     "name": "stdout",
     "output_type": "stream",
     "text": [
      "Inputs\n",
      "------\n",
      "Mel spectrograms\n",
      "2 audio files, 128 mel frequencies, 207 frames\n",
      "\n",
      "Language tags\n",
      "[3, 3]\n",
      "3: no language tags (the networks in this repository are all trained without language tags)\n",
      "0: German, 1: English, 2: French\n",
      "\n",
      "Number of valid samples per audio file: [203, 206]\n"
     ]
    }
   ],
   "source": [
    "# Prepare a batch as input to the network\n",
    "collate_fn = CollateItems()\n",
    "batch = collate_fn([test_dataset[0],test_dataset[1]])\n",
    "inputs, targets, lengths = trainer.generate_inputs_and_targets(batch, lang_input=0)\n",
    "\n",
    "print('Inputs')\n",
    "print('------')\n",
    "print('Mel spectrograms')\n",
    "print('{} audio files, {} mel frequencies, {} frames'.format(*inputs[0].shape))\n",
    "print('')\n",
    "print('Language tags')\n",
    "print(inputs[1].tolist())\n",
    "print('3: no language tags (the networks in this repository are all trained without language tags)')\n",
    "print('0: German, 1: English, 2: French')\n",
    "print('')\n",
    "print('Number of valid samples per audio file: {}'.format(lengths.tolist()))"
   ]
  },
  {
   "cell_type": "code",
   "execution_count": 8,
   "id": "80ad8151",
   "metadata": {},
   "outputs": [
    {
     "data": {
      "text/plain": [
       "<matplotlib.collections.QuadMesh at 0x7b8f4c9329a0>"
      ]
     },
     "execution_count": 8,
     "metadata": {},
     "output_type": "execute_result"
    },
    {
     "data": {
      "image/png": "[encoded data removed]",
      "text/plain": [
       "<Figure size 640x480 with 1 Axes>"
      ]
     },
     "metadata": {},
     "output_type": "display_data"
    }
   ],
   "source": [
    "# Plot the Mel spectrogram of the first sentence\n",
    "L = inputs[0].shape[2]/sfreq\n",
    "t = np.arange(0,L,1/sfreq)\n",
    "\n",
    "fig, ax = plt.subplots()\n",
    "ax.pcolormesh(t,np.arange(128),inputs[0][0],cmap='gray')"
   ]
  },
  {
   "cell_type": "code",
   "execution_count": 9,
   "id": "a6b177cc",
   "metadata": {},
   "outputs": [
    {
     "name": "stdout",
     "output_type": "stream",
     "text": [
      "Outputs\n",
      "------\n",
      "Phoneme logits:\n",
      "2 audio files, 207 frames, 131 phonemes\n",
      "\n",
      "Word logits:\n",
      "2 audio files, 207 frames, 12001 words\n",
      "\n",
      "Hidden activations phoneme module:\n",
      "2 audio files, 207 frames, 256 units\n",
      "\n",
      "Hidden activations word module:\n",
      "2 audio files, 207 frames, 256 units\n"
     ]
    }
   ],
   "source": [
    "# Run through the network\n",
    "outputs = trainer.model(inputs, lengths)\n",
    "\n",
    "print('Outputs')\n",
    "print('------')\n",
    "print('Phoneme logits:')\n",
    "print('{} audio files, {} frames, {} phonemes'.format(*outputs[0].shape))\n",
    "print('')\n",
    "print('Word logits:')\n",
    "print('{} audio files, {} frames, {} words'.format(*outputs[1].shape))\n",
    "print('')\n",
    "print('Hidden activations phoneme module:')\n",
    "print('{} audio files, {} frames, {} units'.format(*outputs[4].shape))\n",
    "print('')\n",
    "print('Hidden activations word module:')\n",
    "print('{} audio files, {} frames, {} units'.format(*outputs[4].shape))"
   ]
  },
  {
   "cell_type": "code",
   "execution_count": 10,
   "id": "cc9f43f0",
   "metadata": {},
   "outputs": [],
   "source": [
    "# Softmax to compute probabilities from logits\n",
    "p_phoneme = torch.softmax(outputs[0],2).data.cpu()\n",
    "p_word = torch.softmax(outputs[1],2).data.cpu()"
   ]
  },
  {
   "cell_type": "code",
   "execution_count": 11,
   "id": "4c50e0e0",
   "metadata": {},
   "outputs": [
    {
     "data": {
      "text/plain": [
       "<matplotlib.legend.Legend at 0x7b8f4c5d9460>"
      ]
     },
     "execution_count": 11,
     "metadata": {},
     "output_type": "execute_result"
    },
    {
     "data": {
      "image/png": "[encoded data removed]",
      "text/plain": [
       "<Figure size 640x480 with 2 Axes>"
      ]
     },
     "metadata": {},
     "output_type": "display_data"
    }
   ],
   "source": [
    "# Plot predictions for the first sentence\n",
    "index_word1 = np.where(df_words['word']=='language')[0][0]\n",
    "index_word2 = np.where(df_words['word']=='languages')[0][0]\n",
    "index_phoneme = np.where(df_phonemes['cmu']=='L')[0][0]\n",
    "\n",
    "fig, ax = plt.subplots()\n",
    "ax2 = ax.twinx()\n",
    "ax.pcolormesh(t,np.arange(128),inputs[0][0],cmap='gray')\n",
    "ax2.plot(t, p_phoneme[0,:,index_phoneme])\n",
    "ax2.plot(t, p_word[0,:,index_word1])\n",
    "ax2.plot(t, p_word[0,:,index_word2])\n",
    "ax2.legend(['/l/','language','languages'])"
   ]
  },
  {
   "cell_type": "code",
   "execution_count": 12,
   "id": "1ee4fe16",
   "metadata": {},
   "outputs": [],
   "source": [
    "# Get path to model state dictionary\n",
    "state_dict_path = op.join(config_path.replace('.cfg',''),'pretraining','model_state.pth')\n",
    "# Compute PCA of phoneme readout vectors\n",
    "df, pca, pca_o = phoneme_representations(state_dict_path, ['fr','en'], layer='phone_linear')\n",
    "# Project hidden activity into PCA space and smooth time-series\n",
    "dfs = []\n",
    "for ii in range(2):\n",
    "    y = pca.transform(outputs[4].data.cpu()[ii])\n",
    "    for ii in range(y.shape[1]):\n",
    "        y[:,ii] = np.convolve(\n",
    "            y[:,ii], np.ones(num_smooth)/num_smooth, mode='same'\n",
    "        )\n",
    "    df = pd.DataFrame(dict(\n",
    "        time = t,\n",
    "        word = targets[1][0].cpu(),\n",
    "        phoneme = targets[0][0].cpu(),\n",
    "    ))\n",
    "    df[['pca_0','pca_1','pca_2']] = y\n",
    "    dfs.append(df.iloc[:np.where(targets[0][0]==-1)[0][0]])"
   ]
  },
  {
   "cell_type": "code",
   "execution_count": 13,
   "id": "8dc03726",
   "metadata": {},
   "outputs": [
    {
     "data": {
      "application/vnd.plotly.v1+json": {
       "config": {
        "plotlyServerURL": "https://plot.ly"
       },
       "data": [
        {
         "line": {
          "cmax": 1.75,
          "cmin": 0,
          "color": [
           0,
           0.01,
           0.02,
           0.03,
           0.04,
           0.05,
           0.06,
           0.07,
           0.08,
           0.09,
           0.1,
           0.11,
           0.12,
           0.13,
           0.14,
           0.15,
           0.16,
           0.17,
           0.18,
           0.19,
           0.2,
           0.21,
           0.22,
           0.23,
           0.24,
           0.25,
           0.26,
           0.27,
           0.28,
           0.29,
           0.3,
           0.31,
           0.32,
           0.33,
           0.34,
           0.35000000000000003,
           0.36,
           0.37,
           0.38,
           0.39,
           0.4,
           0.41000000000000003,
           0.42,
           0.43,
           0.44,
           0.45,
           0.46,
           0.47000000000000003,
           0.48,
           0.49,
           0.5,
           0.51,
           0.52,
           0.53,
           0.54,
           0.55,
           0.56,
           0.5700000000000001,
           0.58,
           0.59,
           0.6,
           0.61,
           0.62,
           0.63,
           0.64,
           0.65,
           0.66,
           0.67,
           0.68,
           0.6900000000000001,
           0.7000000000000001,
           0.71,
           0.72,
           0.73,
           0.74,
           0.75,
           0.76,
           0.77,
           0.78,
           0.79,
           0.8,
           0.81,
           0.8200000000000001,
           0.8300000000000001,
           0.84,
           0.85,
           0.86,
           0.87,
           0.88,
           0.89,
           0.9,
           0.91,
           0.92,
           0.93,
           0.9400000000000001,
           0.9500000000000001,
           0.96,
           0.97,
           0.98,
           0.99,
           1,
           1.01,
           1.02,
           1.03,
           1.04,
           1.05,
           1.06,
           1.07,
           1.08,
           1.09,
           1.1,
           1.11,
           1.12,
           1.1300000000000001,
           1.1400000000000001,
           1.1500000000000001,
           1.16,
           1.17,
           1.18,
           1.19,
           1.2,
           1.21,
           1.22,
           1.23,
           1.24,
           1.25,
           1.26,
           1.27,
           1.28,
           1.29,
           1.3,
           1.31,
           1.32,
           1.33,
           1.34,
           1.35,
           1.36,
           1.37,
           1.3800000000000001,
           1.3900000000000001,
           1.4000000000000001,
           1.41,
           1.42,
           1.43,
           1.44,
           1.45,
           1.46,
           1.47,
           1.48,
           1.49,
           1.5,
           1.51,
           1.52,
           1.53,
           1.54,
           1.55,
           1.56,
           1.57,
           1.58,
           1.59,
           1.6,
           1.61,
           1.62,
           1.6300000000000001,
           1.6400000000000001,
           1.6500000000000001,
           1.6600000000000001,
           1.67,
           1.68,
           1.69,
           1.7,
           1.71,
           1.72,
           1.73,
           1.74,
           1.75
          ],
          "colorscale": [
           [
            0,
            "rgb(103,0,13)"
           ],
           [
            0.125,
            "rgb(165,15,21)"
           ],
           [
            0.25,
            "rgb(203,24,29)"
           ],
           [
            0.375,
            "rgb(239,59,44)"
           ],
           [
            0.5,
            "rgb(251,106,74)"
           ],
           [
            0.625,
            "rgb(252,146,114)"
           ],
           [
            0.75,
            "rgb(252,187,161)"
           ],
           [
            0.875,
            "rgb(254,224,210)"
           ],
           [
            1,
            "rgb(255,245,240)"
           ]
          ],
          "width": 6
         },
         "mode": "lines",
         "showlegend": false,
         "type": "scatter3d",
         "x": [
          -0.025640879969071762,
          -0.05036023761774195,
          -0.07400796841867022,
          -0.10753598839491343,
          -0.14324398295823518,
          -0.17538475383965046,
          -0.20738090785661062,
          -0.22705884019804853,
          -0.2563886497784196,
          -0.2921983971983935,
          -0.33692127731256216,
          -0.3639849013710082,
          -0.39064002669737363,
          -0.41055675725263124,
          -0.4192316692663576,
          -0.40537208441510625,
          -0.3672283047342222,
          -0.3480320105193065,
          -0.33738315609897623,
          -0.33025080271043605,
          -0.3294013565098292,
          -0.3670032636379384,
          -0.4129577924432444,
          -0.448446146789889,
          -0.4485783238423462,
          -0.43241205045314113,
          -0.417342221119833,
          -0.41732390526474983,
          -0.44737677221886074,
          -0.4825301438835164,
          -0.5053998533584498,
          -0.5113847582983574,
          -0.5089719793933241,
          -0.5224947607193848,
          -0.5541086655499261,
          -0.5876290764535287,
          -0.6008539691174538,
          -0.6096024723046043,
          -0.6136092692253159,
          -0.611963676684327,
          -0.6017439778442002,
          -0.586029939838968,
          -0.5867218717362325,
          -0.6010601749796849,
          -0.6178969464297168,
          -0.6160984629564734,
          -0.6061495245872678,
          -0.5871582837277181,
          -0.5713547135485394,
          -0.5497843747176299,
          -0.5493255034545713,
          -0.5563650693891676,
          -0.5621066023942849,
          -0.5499737860077998,
          -0.5428768954317265,
          -0.5203693390525664,
          -0.512865163304542,
          -0.49961784699535594,
          -0.5232382806020852,
          -0.5404902441480018,
          -0.5515507700988553,
          -0.5589375283883997,
          -0.5780257099520576,
          -0.6091019396211121,
          -0.6438595744551365,
          -0.6717624362032228,
          -0.6776589435807436,
          -0.6613226607785716,
          -0.6548044243162476,
          -0.6643534751972842,
          -0.6862407080846904,
          -0.7072291129630901,
          -0.7060492421724209,
          -0.6937177062701226,
          -0.6736127464593851,
          -0.6776499471412301,
          -0.6842047549021901,
          -0.6976156973706914,
          -0.7245023722104051,
          -0.7611201832848664,
          -0.748929030202304,
          -0.7186000416405139,
          -0.691797756955991,
          -0.6622221915660185,
          -0.620620409101581,
          -0.5636841571812405,
          -0.5440670360385771,
          -0.545403416493658,
          -0.5564146207321178,
          -0.5779464116698113,
          -0.5918296977034089,
          -0.6080862088459206,
          -0.6148357193015516,
          -0.612617612957576,
          -0.6106222990822661,
          -0.6141811954854304,
          -0.6273978142268974,
          -0.6336066122053003,
          -0.6259707373586547,
          -0.6257630103709182,
          -0.6334261551331594,
          -0.6624792786507941,
          -0.6905768820529655,
          -0.7266127054395538,
          -0.7479388540050815,
          -0.7481816317008962,
          -0.73179615970441,
          -0.7102929249794406,
          -0.7002220320462229,
          -0.6890067196635759,
          -0.6884048356891286,
          -0.6926840732203987,
          -0.6954468348477316,
          -0.6908573117926387,
          -0.6770027766136808,
          -0.6703975940415842,
          -0.6647262937707845,
          -0.6609396487689393,
          -0.6472910301524932,
          -0.6395363423936979,
          -0.6284891456911692,
          -0.6230111487708356,
          -0.6154720743722399,
          -0.6265344749855513,
          -0.6407590174221129,
          -0.6464997806280772,
          -0.6494786917726678,
          -0.6597684790472751,
          -0.6793754400941345,
          -0.6871242355838589,
          -0.691353099804692,
          -0.713438104617028,
          -0.7368057536815421,
          -0.7490381115055782,
          -0.7605264063646451,
          -0.7735835929672427,
          -0.7893321858086592,
          -0.7722386832926545,
          -0.7444120330074213,
          -0.7332157220082219,
          -0.7532729682128414,
          -0.7870990453547518,
          -0.7680549160814254,
          -0.7298742178966245,
          -0.6893605954018849,
          -0.684751090980884,
          -0.6822221113719951,
          -0.6824427587298265,
          -0.6875801267799777,
          -0.6884819562490767,
          -0.6878184926286931,
          -0.6805197989585703,
          -0.6766251972261214,
          -0.6728909966584149,
          -0.6817325434654355,
          -0.6939258210389287,
          -0.7128956375279871,
          -0.727761454167207,
          -0.7386587930906089,
          -0.7406831015277383,
          -0.7313708160191932,
          -0.7222551947820264,
          -0.7115988300773641,
          -0.7064772685535257,
          -0.697052445902591,
          -0.6883463420268017,
          -0.6871154329036311,
          -0.6888895578566252,
          -0.6782770511672107,
          -0.652707683341246,
          -0.6253694217048806
         ],
         "y": [
          0.09872969564802715,
          0.31183988891993025,
          0.5806584406151141,
          0.7594268992031372,
          0.7946763394508148,
          0.7391156513495478,
          0.6186085449585992,
          0.5027684758951745,
          0.40506522687001617,
          0.30933988729005124,
          0.24094484711601294,
          0.15762172576094574,
          0.02870456193139953,
          -0.09632318572645782,
          -0.21849999408068876,
          -0.2843819195763191,
          -0.3513821156060136,
          -0.302168096973662,
          -0.12141506135591058,
          0.09288815344346282,
          0.2813646083267928,
          0.3639295727937548,
          0.45243499503692697,
          0.5028889563054093,
          0.5524218077755632,
          0.575752062975474,
          0.5814848741882176,
          0.6434793131324716,
          0.6714807528010933,
          0.7202966270397364,
          0.6946087613994856,
          0.6554738107663027,
          0.6017366954730308,
          0.595467697124608,
          0.6510425585044035,
          0.7591350184116272,
          0.8679148587085657,
          0.9492931734334439,
          0.9519909601846352,
          0.9360153811419243,
          0.9159737168928063,
          0.9081695699885493,
          0.8449992519107352,
          0.7365870233699736,
          0.5852937406400105,
          0.46468125567310004,
          0.3316910223916813,
          0.07534463359733984,
          -0.19063640607455,
          -0.4329618835381118,
          -0.49387696350838295,
          -0.5216404145453266,
          -0.5023784375908128,
          -0.4446822559257079,
          -0.32847724938345135,
          -0.05095459360563852,
          0.28464466445795333,
          0.6256622811880671,
          0.7883188361086084,
          0.8590975689656547,
          0.8381614887327529,
          0.7747946139266659,
          0.6216420087370821,
          0.4086294608106582,
          0.015848950701593506,
          -0.3840148455767392,
          -0.7431192772925234,
          -0.8749145632239749,
          -0.9308795814471972,
          -0.9536344412816756,
          -0.9830133497766526,
          -1.0019734989575684,
          -0.9628183888979399,
          -0.944292528862081,
          -0.9627968244951659,
          -1.0423610133859638,
          -1.1158209498885148,
          -1.1177340615482492,
          -1.0712162658638997,
          -0.9696310498491021,
          -0.8781423032067464,
          -0.7726783961785328,
          -0.6682515736367659,
          -0.464126025113464,
          -0.20056963778613385,
          0.10578168103062974,
          0.33046278545797125,
          0.47010017950218747,
          0.5582643698899494,
          0.5989300402104126,
          0.603601617239673,
          0.5822369309509193,
          0.5578354885878527,
          0.5182510828186966,
          0.45453565830096754,
          0.42781654862105173,
          0.4466597787705411,
          0.4918475450393478,
          0.5135903008526154,
          0.5378419586376761,
          0.5907551750131069,
          0.6520338605572951,
          0.726893112673604,
          0.7509752067535038,
          0.7679290958586331,
          0.7246654998775786,
          0.7110761643540967,
          0.6979004960807051,
          0.7022422863105194,
          0.7026294440583486,
          0.6731429133197127,
          0.6219285671106887,
          0.5811762036013843,
          0.5076974568303417,
          0.4102184247134415,
          0.3121698800110461,
          0.2724577123992419,
          0.2308802675100656,
          0.1078615467278507,
          -0.0811428405549246,
          -0.16998284537167205,
          -0.18503858839835116,
          -0.10097314968821101,
          0.00853869979026032,
          0.18614605073819956,
          0.37916013589816755,
          0.5421002497244787,
          0.6462953539169136,
          0.6493837245986056,
          0.5824244067537265,
          0.5181224558986877,
          0.45749828723803665,
          0.39044850475183995,
          0.21634488457665496,
          -0.0513046153184438,
          -0.36414594740812534,
          -0.7071680658602243,
          -0.88891806995342,
          -0.9601260250419775,
          -0.8474068118381874,
          -0.7016038159943097,
          -0.5025734458475449,
          -0.2539422783781218,
          0.04804106226725269,
          0.32187026931537055,
          0.49220918037971856,
          0.574716317290888,
          0.6094212906569638,
          0.6117819813583575,
          0.6044604900972897,
          0.5990325160285881,
          0.6509063428211292,
          0.6716902644502644,
          0.6412000099049692,
          0.5113886363789502,
          0.3192350552989,
          0.10220611191634668,
          -0.14571397705366665,
          -0.39965624637353603,
          -0.623861081271378,
          -0.745585989244614,
          -0.7686293883806938,
          -0.7516152244374201,
          -0.7610114763112665,
          -0.744285984933169,
          -0.7337043711139001,
          -0.7016206985188085,
          -0.7028680634930842,
          -0.7003987346552497,
          -0.6988674263254923,
          -0.6888717694428768
         ],
         "z": [
          -0.051902034377667855,
          0.0255831945183876,
          0.19721945913048347,
          0.3424674394218562,
          0.4078008275609393,
          0.4051203532225525,
          0.38299726294280056,
          0.2650434768674558,
          0.12239592183788021,
          -0.008611017794938586,
          -0.08103410760991919,
          -0.21812364291889513,
          -0.50515201853024,
          -0.7191988275866553,
          -0.8006307342112322,
          -0.7222047725875704,
          -0.8566893511459537,
          -0.9885020874949171,
          -1.0322365986380868,
          -0.8444307277033936,
          -0.6874556980454332,
          -0.534121018129226,
          -0.40620576036482053,
          -0.2307551526248376,
          -0.06312575155463682,
          -0.032227808499371555,
          -0.0571353386795471,
          -0.18899563866101493,
          -0.26502086392926394,
          -0.3366327004826159,
          -0.38197618997361393,
          -0.3883667446585573,
          -0.37472486216866685,
          -0.369936425393037,
          -0.28308821910042214,
          -0.14990063433099465,
          0.07203494002230296,
          0.23849124627215312,
          0.36944873203052386,
          0.442256740382466,
          0.5383840277829289,
          0.5495497876626387,
          0.492635329880865,
          0.3887918634190305,
          0.3071938518942427,
          0.2612585377204975,
          0.1830040854992923,
          0.10241496669103026,
          0.010326877376931495,
          -0.14925419409281787,
          -0.3493258462492566,
          -0.5141938101075485,
          -0.5910074230705231,
          -0.6142547717918809,
          -0.5813706429260358,
          -0.5187223914829819,
          -0.4045424959971824,
          -0.27703270794368284,
          -0.11798160409002605,
          0.05058205109899945,
          0.16030126333712935,
          0.25448749504761015,
          0.28473213636181594,
          0.3386462302072485,
          0.3674330492344514,
          0.40045268837128994,
          0.3810593767230743,
          0.3021905009206621,
          0.2700490303180144,
          0.23139190535572396,
          0.24017607871698118,
          0.1825870424643079,
          0.07075845245318511,
          -0.1317559773418268,
          -0.22179034579412452,
          -0.15694945014257183,
          0.05932599261207297,
          0.22209952333813887,
          0.32100156527744844,
          0.42937432145501697,
          0.4959547113634408,
          0.4752879219484365,
          0.3437488671421651,
          0.1856492234924784,
          0.07145821868810512,
          -0.063761889468021,
          -0.1782303844244458,
          -0.26085856246464983,
          -0.3045718188276305,
          -0.3296910105355627,
          -0.37732722884539427,
          -0.4080963519517486,
          -0.3885814451391564,
          -0.34079463931386844,
          -0.31028409910120563,
          -0.3532246783407798,
          -0.4040597419481419,
          -0.4448284876900169,
          -0.4832171517531023,
          -0.49738120518191276,
          -0.454101764122934,
          -0.30464137103595357,
          -0.09413122134748339,
          0.1559358206712034,
          0.3843552579887165,
          0.5723863857099049,
          0.6720218341547146,
          0.7191651219963666,
          0.7093859754387495,
          0.6438390171346209,
          0.520455985028235,
          0.34729488069427383,
          0.19610663303551024,
          0.08504105785988982,
          -0.02000546064262087,
          -0.13597015381916172,
          -0.2651962741068076,
          -0.3454264915978271,
          -0.41104309878363865,
          -0.4082105400597434,
          -0.49327991865523463,
          -0.6029453562728881,
          -0.7937434037426224,
          -0.8503111052210939,
          -0.782999026755638,
          -0.5839166272255053,
          -0.3467340219058963,
          -0.12623806111738592,
          0.023554916961170336,
          0.14059344034767035,
          0.24472313269123697,
          0.2713257656415252,
          0.21091335883261356,
          0.04508566831537943,
          -0.15930187483496086,
          -0.2802358805598015,
          -0.29915304224113914,
          -0.21566436903774733,
          -0.19091926789806687,
          -0.15902521632634675,
          -0.10087100123847914,
          -0.0070606313156075795,
          0.11537876527817774,
          0.2774754828525162,
          0.44216002690271206,
          0.49727911505327926,
          0.49816344551364844,
          0.49802237419487083,
          0.4747867116889424,
          0.42730578507807726,
          0.3576558453932599,
          0.2942237735714312,
          0.2603922130502389,
          0.2691633520329593,
          0.2954304747135297,
          0.27237906656652133,
          0.2582805295288218,
          0.30794012422043543,
          0.42180279945170807,
          0.5319766013529489,
          0.607795395222307,
          0.6334488547910315,
          0.6142715151444251,
          0.6284695735270853,
          0.6367938135966682,
          0.633000612150735,
          0.5910185646454377,
          0.5222384843023911,
          0.43364795049914967,
          0.3508451014331717,
          0.27744413166354637
         ]
        },
        {
         "line": {
          "cmax": 1.75,
          "cmin": 0,
          "color": [
           0,
           0.01,
           0.02,
           0.03,
           0.04,
           0.05,
           0.06,
           0.07,
           0.08,
           0.09,
           0.1,
           0.11,
           0.12,
           0.13,
           0.14,
           0.15,
           0.16,
           0.17,
           0.18,
           0.19,
           0.2,
           0.21,
           0.22,
           0.23,
           0.24,
           0.25,
           0.26,
           0.27,
           0.28,
           0.29,
           0.3,
           0.31,
           0.32,
           0.33,
           0.34,
           0.35000000000000003,
           0.36,
           0.37,
           0.38,
           0.39,
           0.4,
           0.41000000000000003,
           0.42,
           0.43,
           0.44,
           0.45,
           0.46,
           0.47000000000000003,
           0.48,
           0.49,
           0.5,
           0.51,
           0.52,
           0.53,
           0.54,
           0.55,
           0.56,
           0.5700000000000001,
           0.58,
           0.59,
           0.6,
           0.61,
           0.62,
           0.63,
           0.64,
           0.65,
           0.66,
           0.67,
           0.68,
           0.6900000000000001,
           0.7000000000000001,
           0.71,
           0.72,
           0.73,
           0.74,
           0.75,
           0.76,
           0.77,
           0.78,
           0.79,
           0.8,
           0.81,
           0.8200000000000001,
           0.8300000000000001,
           0.84,
           0.85,
           0.86,
           0.87,
           0.88,
           0.89,
           0.9,
           0.91,
           0.92,
           0.93,
           0.9400000000000001,
           0.9500000000000001,
           0.96,
           0.97,
           0.98,
           0.99,
           1,
           1.01,
           1.02,
           1.03,
           1.04,
           1.05,
           1.06,
           1.07,
           1.08,
           1.09,
           1.1,
           1.11,
           1.12,
           1.1300000000000001,
           1.1400000000000001,
           1.1500000000000001,
           1.16,
           1.17,
           1.18,
           1.19,
           1.2,
           1.21,
           1.22,
           1.23,
           1.24,
           1.25,
           1.26,
           1.27,
           1.28,
           1.29,
           1.3,
           1.31,
           1.32,
           1.33,
           1.34,
           1.35,
           1.36,
           1.37,
           1.3800000000000001,
           1.3900000000000001,
           1.4000000000000001,
           1.41,
           1.42,
           1.43,
           1.44,
           1.45,
           1.46,
           1.47,
           1.48,
           1.49,
           1.5,
           1.51,
           1.52,
           1.53,
           1.54,
           1.55,
           1.56,
           1.57,
           1.58,
           1.59,
           1.6,
           1.61,
           1.62,
           1.6300000000000001,
           1.6400000000000001,
           1.6500000000000001,
           1.6600000000000001,
           1.67,
           1.68,
           1.69,
           1.7,
           1.71,
           1.72,
           1.73,
           1.74,
           1.75
          ],
          "colorscale": [
           [
            0,
            "rgb(8,48,107)"
           ],
           [
            0.125,
            "rgb(8,81,156)"
           ],
           [
            0.25,
            "rgb(33,113,181)"
           ],
           [
            0.375,
            "rgb(66,146,198)"
           ],
           [
            0.5,
            "rgb(107,174,214)"
           ],
           [
            0.625,
            "rgb(158,202,225)"
           ],
           [
            0.75,
            "rgb(198,219,239)"
           ],
           [
            0.875,
            "rgb(222,235,247)"
           ],
           [
            1,
            "rgb(247,251,255)"
           ]
          ],
          "width": 6
         },
         "mode": "lines",
         "showlegend": false,
         "type": "scatter3d",
         "x": [
          0.03884967349840189,
          0.06418997362203771,
          0.07524402233390155,
          0.050291918539207975,
          0.012645593445935962,
          -0.019362338398831832,
          -0.023026286446195726,
          -0.021524415816071542,
          -0.013286297488288726,
          -0.0006051116925122474,
          0.018832634798473625,
          0.033643189640105195,
          0.04149129276048755,
          0.04841277656235085,
          0.051574490843179555,
          0.05160924842821929,
          0.061778865413057535,
          0.06875898045622711,
          0.08456719293484954,
          0.10314712375865734,
          0.12273962640230307,
          0.1306008133961251,
          0.13301821181030837,
          0.14288342675537818,
          0.1545880410772946,
          0.1680191722145536,
          0.18292559201353348,
          0.20149679543807533,
          0.22094038928418702,
          0.22279384443432226,
          0.22643236957285562,
          0.22785314849551638,
          0.24557815693651064,
          0.2536187649778897,
          0.25745573975904423,
          0.26910638707848367,
          0.29687174530335936,
          0.3285593484381507,
          0.35223402414693317,
          0.3584163989098459,
          0.3715429996514565,
          0.38403010905662266,
          0.4086300540542208,
          0.4275059891225701,
          0.44057538156310005,
          0.4480532634701855,
          0.44694572817791667,
          0.4406181101406915,
          0.4404460856756093,
          0.4509638613003426,
          0.4611323954209675,
          0.46721522403478527,
          0.4706958474917829,
          0.48349762272339736,
          0.49567662452512706,
          0.4927353283034506,
          0.48569635248205634,
          0.4827872452515863,
          0.5006582341189986,
          0.5289929855525162,
          0.5624506526969308,
          0.5937936764511254,
          0.6224500042081159,
          0.6499025538488543,
          0.6693727766878557,
          0.6899609795831751,
          0.7068113844940012,
          0.7293159856012894,
          0.7455122437675445,
          0.7508058606041998,
          0.7482804049429799,
          0.7497251433584391,
          0.7417273010669212,
          0.7397661043484438,
          0.7121491693789708,
          0.6869387558879754,
          0.6335442265469737,
          0.6023352093524756,
          0.5765926407213001,
          0.594319908884622,
          0.6130017778583676,
          0.6473729492304522,
          0.6780753396285121,
          0.6934377371988005,
          0.7060636757212235,
          0.7100280290656563,
          0.7131482813088945,
          0.6912407917177514,
          0.6553323991645505,
          0.6344864405808455,
          0.6254173190570376,
          0.620931010540733,
          0.6182301625271625,
          0.6244636531930472,
          0.6277471374087942,
          0.627293201457375,
          0.6263212554510663,
          0.6306277114053298,
          0.6387190023117135,
          0.6487586018763951,
          0.6616072076037154,
          0.6691833831769405,
          0.6685317983173954,
          0.6599253338472469,
          0.644729577330229,
          0.6067317160391403,
          0.574513197598013,
          0.5582032628208317,
          0.5859540420856139,
          0.6147806202332695,
          0.6451701385378781,
          0.6627553201222075,
          0.673250911134978,
          0.6790937187146986,
          0.682553555732393,
          0.6903649491730514,
          0.6948816378015915,
          0.6960129796339715,
          0.7009742220424822,
          0.701681885760077,
          0.7043586629320374,
          0.7031292880263106,
          0.7073678500848372,
          0.7088091888373128,
          0.7078776413439539,
          0.6966150774851715,
          0.697846666825577,
          0.7096417443732568,
          0.7319860986087809,
          0.7410153672216809,
          0.7398069814555253,
          0.7284544961710723,
          0.7150024879014697,
          0.7014306565526626,
          0.6779303400558949,
          0.6657118218213439,
          0.6445323160223395,
          0.6354834180754623,
          0.6285118652419228,
          0.6265653980206038,
          0.636387838027435,
          0.6433255431873883,
          0.6633148237240466,
          0.6784273021524782,
          0.6880274829155321,
          0.6891053636135183,
          0.6814095873785173,
          0.6730139068202003,
          0.6660956648970651,
          0.6599079162381049,
          0.6548407486961036,
          0.6452403996900673,
          0.6370032646112465,
          0.630686876774748,
          0.627158745291614,
          0.6268050969008065,
          0.6311044615429764,
          0.634746165250784,
          0.6314186041123507,
          0.6210364710628697,
          0.6046453125066502,
          0.6011757840219738,
          0.6037541876215995,
          0.6266586335331857,
          0.6533529958003675,
          0.6747305393947056,
          0.7068260396242937,
          0.7211205717227636,
          0.736150096314835,
          0.7261124713630168,
          0.7188440559132356
         ],
         "y": [
          -0.3651377420336931,
          -0.5667904624533807,
          -0.5728940541101296,
          -0.5696598641561716,
          -0.6021403872063608,
          -0.7172037526470717,
          -0.83098399419876,
          -0.8956539357322267,
          -0.8466159831196745,
          -0.7390335558321928,
          -0.6307917962037783,
          -0.5065013085066038,
          -0.3753370749893268,
          -0.24083786750710998,
          -0.1345335592348544,
          -0.08379310900533965,
          -0.019718024189201343,
          0.011291854161102568,
          0.06447952224921898,
          0.10162017233257312,
          0.14089910357980318,
          0.18220791064899308,
          0.1043034941603572,
          -0.02767001558255472,
          -0.17384813766927149,
          -0.15572424820963027,
          -0.0473131555408194,
          0.12252890041161102,
          0.2969869234166738,
          0.4345773059529713,
          0.5199584974244886,
          0.6288496078974422,
          0.7918880614526194,
          0.8746431572942748,
          0.8648651128947266,
          0.7865623650168543,
          0.7779917568084359,
          0.839708247456699,
          0.9381326405377324,
          1.0299283682075857,
          1.0808745064947858,
          1.0960914705298275,
          1.1078289280560734,
          1.1208801913361952,
          1.137879241839869,
          1.0640769203791107,
          0.9201636924733712,
          0.7308459952747909,
          0.6023155129296938,
          0.519808118922135,
          0.42082572964420445,
          0.2838849229240419,
          0.10599191222624117,
          -0.0730200277093371,
          -0.25325871080131895,
          -0.38554672295861625,
          -0.49706089803869935,
          -0.5336944709784812,
          -0.5528959282885233,
          -0.5562985320320403,
          -0.5790352110321312,
          -0.6433772747595857,
          -0.6320670744155588,
          -0.6130646909656983,
          -0.55189308552774,
          -0.5543097557818413,
          -0.5589975937434777,
          -0.5852204608121746,
          -0.5740672565869107,
          -0.5461688391839419,
          -0.5166136746427383,
          -0.4542279419866263,
          -0.38114584774150706,
          -0.22250079787660412,
          -0.047073172761731695,
          0.156654920139104,
          0.3384381442701381,
          0.45318939258966984,
          0.4862732136712382,
          0.4216871556974388,
          0.3218703826843675,
          0.17705010550920358,
          -0.039387256702588774,
          -0.20203099597309926,
          -0.2710709774024023,
          -0.18174948284612275,
          -0.12360545476106517,
          -0.09116553477022712,
          -0.10140501071105533,
          -0.06284913622540904,
          0.039957417306458895,
          0.16334581299915463,
          0.23301353186856993,
          0.28324385681909503,
          0.23442568482752765,
          0.13242518860864327,
          0.026506159904238893,
          -0.03417871123456842,
          -0.022570237657638346,
          -0.056280753171379566,
          -0.030852330014105606,
          -0.0069877622544861455,
          0.04580669402464624,
          0.06194857354923122,
          0.03391428411970334,
          -0.056036176328975736,
          -0.07374193645256612,
          -0.13785469140342826,
          -0.12305494097719323,
          -0.1369043690746019,
          -0.037413459846862854,
          0.08755815182564533,
          0.19440152456888063,
          0.2724268292310973,
          0.32088063772756936,
          0.3468097276240729,
          0.3619878096843174,
          0.36480565210099425,
          0.37505086015149947,
          0.40217290858559834,
          0.40356980446302376,
          0.40223836723259354,
          0.3720422250501582,
          0.32797375062582423,
          0.2613503569370914,
          0.19365627271052244,
          0.1467024416018539,
          0.1078751031825009,
          0.1110777456733632,
          0.1433316201910379,
          0.18670773095457924,
          0.2294785076977683,
          0.32952532394729483,
          0.4709277749340928,
          0.6616796466708871,
          0.8324394484564634,
          0.9670687113448091,
          1.0525877168262028,
          1.101680447940386,
          1.107383882897612,
          1.0543181591842261,
          0.9218086513179312,
          0.7982445614197593,
          0.6454299844777585,
          0.5117963445140105,
          0.3613129427620589,
          0.3094620167068782,
          0.2833033610720789,
          0.3184900108691354,
          0.35415894165323447,
          0.40985416095092647,
          0.41726289674778155,
          0.3726595112269999,
          0.311812548408178,
          0.23703215828667196,
          0.16577157808484214,
          0.13262990562215415,
          0.17869081948492455,
          0.22141597965278736,
          0.22559812247633265,
          0.053939360652978025,
          -0.11662910275409921,
          -0.3351907182405227,
          -0.42652043714615173,
          -0.45742413758152656,
          -0.38573838938960764,
          -0.27269730758173544,
          -0.18657512320420663,
          -0.1559186326399828,
          -0.16644157321546696,
          -0.19353436272914334
         ],
         "z": [
          -0.33754054427539426,
          -0.388468746677464,
          -0.23910922733370527,
          -0.049168969134291696,
          0.12381547809164505,
          0.30825372341036217,
          0.40059232509160114,
          0.370809690052984,
          0.30386077577833204,
          0.2325246037888006,
          0.20848477297665383,
          0.1610816481315196,
          0.13574127165059804,
          0.08463695750969555,
          0.046269196343831476,
          0.04039988388870179,
          0.050894742317791765,
          0.06262974507314162,
          0.045441053148213645,
          -0.02686012644267145,
          -0.1487189690581798,
          -0.3651528762867793,
          -0.6855186916533745,
          -0.985468659857323,
          -1.2063950629642066,
          -1.1190409371389056,
          -0.9248667383597935,
          -0.6081379927512645,
          -0.34034583610928193,
          -0.09205050966086883,
          0.06559214211281104,
          0.15928102874556652,
          0.22333457926883754,
          0.2872438155577546,
          0.2926169775322906,
          0.2855008501124922,
          0.2996102293428896,
          0.3666188851185375,
          0.4256820099731217,
          0.45250028590958613,
          0.4396336422342858,
          0.43220496418140447,
          0.3998154775657492,
          0.3676294650029396,
          0.33228987487166484,
          0.28054963860507987,
          0.1747550362885081,
          0.04749948884182571,
          -0.06506073796894783,
          -0.15071992888072966,
          -0.2291404982782425,
          -0.31868094112052037,
          -0.4077082396238001,
          -0.49918703564007494,
          -0.544071188311586,
          -0.5334201503273753,
          -0.5322330430596443,
          -0.5236113452122012,
          -0.5301366470699769,
          -0.5035986051737935,
          -0.4567638679268732,
          -0.39786903793778416,
          -0.31326247206613117,
          -0.2330481090159776,
          -0.1742455660609108,
          -0.16509104025537025,
          -0.18291989361294791,
          -0.18847035082160363,
          -0.14357926662589102,
          -0.07731587098877782,
          -0.014737467527680938,
          0.09276220689971465,
          0.19872281873157605,
          0.37302003987410015,
          0.5267135220213193,
          0.6607375535061973,
          0.7170832530826525,
          0.6975308754389502,
          0.5202050247113568,
          0.26760922729510045,
          -0.020899095839258662,
          -0.23774837441281915,
          -0.4955709318041259,
          -0.6130554571498728,
          -0.599502071790799,
          -0.41373991613543104,
          -0.25565269018827297,
          -0.12136475297824181,
          0.03236501164113851,
          0.125573393873744,
          0.1844071797017366,
          0.12311903413275747,
          0.01672965720154585,
          -0.1513009605278937,
          -0.3500919818723245,
          -0.5739312146112037,
          -0.7323598857588067,
          -0.8504880071350457,
          -0.9179268006086998,
          -0.9920011241009241,
          -1.0411153066115613,
          -1.055424689932174,
          -1.0655204053763896,
          -1.0584400887717909,
          -1.0906488778536398,
          -1.1492549463882202,
          -1.2909257639275342,
          -1.3442957646574123,
          -1.3165334631818433,
          -1.1197479446540288,
          -0.8923519005871405,
          -0.6287679628222785,
          -0.38537790870257926,
          -0.19418078500704816,
          -0.06079712453227781,
          0.00025723699028627756,
          0.01671503174295456,
          0.0312332372089279,
          0.046109165878725836,
          0.08401310031419852,
          0.11144556928069765,
          0.18868279371899133,
          0.24242551880090255,
          0.2513020349283845,
          0.19768347105324047,
          0.10468258965756227,
          -0.0298291000171926,
          -0.1661150291661168,
          -0.2481291547487813,
          -0.3048266604807354,
          -0.323087720024393,
          -0.30086495687110915,
          -0.14573516927498964,
          0.06732476235835855,
          0.2841273295077066,
          0.46720773248800673,
          0.6071644263404712,
          0.6767645269199282,
          0.6184709668410142,
          0.4651972764347094,
          0.2599261045590252,
          0.11742334867765515,
          -0.0299315648370156,
          -0.16409471523887287,
          -0.343210050841664,
          -0.4910352039384249,
          -0.5555937607268523,
          -0.5714301548815961,
          -0.573653297145093,
          -0.5812293899233552,
          -0.5684339302587627,
          -0.572337971143634,
          -0.5997328125539266,
          -0.6392646311467297,
          -0.6521911549690665,
          -0.6918565511262176,
          -0.7349388781245605,
          -0.7741736301210442,
          -0.7896186266512906,
          -0.8056918320288897,
          -0.8634484865158184,
          -0.8994998791234151,
          -0.9681374728098555,
          -0.9921151699597405,
          -0.970676597784414,
          -0.8739258484970748,
          -0.7414928131588363,
          -0.6423569879327738,
          -0.552422703334776,
          -0.4724631399134532,
          -0.42241645803428374
         ]
        }
       ],
       "layout": {
        "template": {
         "data": {
          "bar": [
           {
            "error_x": {
             "color": "#2a3f5f"
            },
            "error_y": {
             "color": "#2a3f5f"
            },
            "marker": {
             "line": {
              "color": "#E5ECF6",
              "width": 0.5
             },
             "pattern": {
              "fillmode": "overlay",
              "size": 10,
              "solidity": 0.2
             }
            },
            "type": "bar"
           }
          ],
          "barpolar": [
           {
            "marker": {
             "line": {
              "color": "#E5ECF6",
              "width": 0.5
             },
             "pattern": {
              "fillmode": "overlay",
              "size": 10,
              "solidity": 0.2
             }
            },
            "type": "barpolar"
           }
          ],
          "carpet": [
           {
            "aaxis": {
             "endlinecolor": "#2a3f5f",
             "gridcolor": "white",
             "linecolor": "white",
             "minorgridcolor": "white",
             "startlinecolor": "#2a3f5f"
            },
            "baxis": {
             "endlinecolor": "#2a3f5f",
             "gridcolor": "white",
             "linecolor": "white",
             "minorgridcolor": "white",
             "startlinecolor": "#2a3f5f"
            },
            "type": "carpet"
           }
          ],
          "choropleth": [
           {
            "colorbar": {
             "outlinewidth": 0,
             "ticks": ""
            },
            "type": "choropleth"
           }
          ],
          "contour": [
           {
            "colorbar": {
             "outlinewidth": 0,
             "ticks": ""
            },
            "colorscale": [
             [
              0,
              "#0d0887"
             ],
             [
              0.1111111111111111,
              "#46039f"
             ],
             [
              0.2222222222222222,
              "#7201a8"
             ],
             [
              0.3333333333333333,
              "#9c179e"
             ],
             [
              0.4444444444444444,
              "#bd3786"
             ],
             [
              0.5555555555555556,
              "#d8576b"
             ],
             [
              0.6666666666666666,
              "#ed7953"
             ],
             [
              0.7777777777777778,
              "#fb9f3a"
             ],
             [
              0.8888888888888888,
              "#fdca26"
             ],
             [
              1,
              "#f0f921"
             ]
            ],
            "type": "contour"
           }
          ],
          "contourcarpet": [
           {
            "colorbar": {
             "outlinewidth": 0,
             "ticks": ""
            },
            "type": "contourcarpet"
           }
          ],
          "heatmap": [
           {
            "colorbar": {
             "outlinewidth": 0,
             "ticks": ""
            },
            "colorscale": [
             [
              0,
              "#0d0887"
             ],
             [
              0.1111111111111111,
              "#46039f"
             ],
             [
              0.2222222222222222,
              "#7201a8"
             ],
             [
              0.3333333333333333,
              "#9c179e"
             ],
             [
              0.4444444444444444,
              "#bd3786"
             ],
             [
              0.5555555555555556,
              "#d8576b"
             ],
             [
              0.6666666666666666,
              "#ed7953"
             ],
             [
              0.7777777777777778,
              "#fb9f3a"
             ],
             [
              0.8888888888888888,
              "#fdca26"
             ],
             [
              1,
              "#f0f921"
             ]
            ],
            "type": "heatmap"
           }
          ],
          "heatmapgl": [
           {
            "colorbar": {
             "outlinewidth": 0,
             "ticks": ""
            },
            "colorscale": [
             [
              0,
              "#0d0887"
             ],
             [
              0.1111111111111111,
              "#46039f"
             ],
             [
              0.2222222222222222,
              "#7201a8"
             ],
             [
              0.3333333333333333,
              "#9c179e"
             ],
             [
              0.4444444444444444,
              "#bd3786"
             ],
             [
              0.5555555555555556,
              "#d8576b"
             ],
             [
              0.6666666666666666,
              "#ed7953"
             ],
             [
              0.7777777777777778,
              "#fb9f3a"
             ],
             [
              0.8888888888888888,
              "#fdca26"
             ],
             [
              1,
              "#f0f921"
             ]
            ],
            "type": "heatmapgl"
           }
          ],
          "histogram": [
           {
            "marker": {
             "pattern": {
              "fillmode": "overlay",
              "size": 10,
              "solidity": 0.2
             }
            },
            "type": "histogram"
           }
          ],
          "histogram2d": [
           {
            "colorbar": {
             "outlinewidth": 0,
             "ticks": ""
            },
            "colorscale": [
             [
              0,
              "#0d0887"
             ],
             [
              0.1111111111111111,
              "#46039f"
             ],
             [
              0.2222222222222222,
              "#7201a8"
             ],
             [
              0.3333333333333333,
              "#9c179e"
             ],
             [
              0.4444444444444444,
              "#bd3786"
             ],
             [
              0.5555555555555556,
              "#d8576b"
             ],
             [
              0.6666666666666666,
              "#ed7953"
             ],
             [
              0.7777777777777778,
              "#fb9f3a"
             ],
             [
              0.8888888888888888,
              "#fdca26"
             ],
             [
              1,
              "#f0f921"
             ]
            ],
            "type": "histogram2d"
           }
          ],
          "histogram2dcontour": [
           {
            "colorbar": {
             "outlinewidth": 0,
             "ticks": ""
            },
            "colorscale": [
             [
              0,
              "#0d0887"
             ],
             [
              0.1111111111111111,
              "#46039f"
             ],
             [
              0.2222222222222222,
              "#7201a8"
             ],
             [
              0.3333333333333333,
              "#9c179e"
             ],
             [
              0.4444444444444444,
              "#bd3786"
             ],
             [
              0.5555555555555556,
              "#d8576b"
             ],
             [
              0.6666666666666666,
              "#ed7953"
             ],
             [
              0.7777777777777778,
              "#fb9f3a"
             ],
             [
              0.8888888888888888,
              "#fdca26"
             ],
             [
              1,
              "#f0f921"
             ]
            ],
            "type": "histogram2dcontour"
           }
          ],
          "mesh3d": [
           {
            "colorbar": {
             "outlinewidth": 0,
             "ticks": ""
            },
            "type": "mesh3d"
           }
          ],
          "parcoords": [
           {
            "line": {
             "colorbar": {
              "outlinewidth": 0,
              "ticks": ""
             }
            },
            "type": "parcoords"
           }
          ],
          "pie": [
           {
            "automargin": true,
            "type": "pie"
           }
          ],
          "scatter": [
           {
            "fillpattern": {
             "fillmode": "overlay",
             "size": 10,
             "solidity": 0.2
            },
            "type": "scatter"
           }
          ],
          "scatter3d": [
           {
            "line": {
             "colorbar": {
              "outlinewidth": 0,
              "ticks": ""
             }
            },
            "marker": {
             "colorbar": {
              "outlinewidth": 0,
              "ticks": ""
             }
            },
            "type": "scatter3d"
           }
          ],
          "scattercarpet": [
           {
            "marker": {
             "colorbar": {
              "outlinewidth": 0,
              "ticks": ""
             }
            },
            "type": "scattercarpet"
           }
          ],
          "scattergeo": [
           {
            "marker": {
             "colorbar": {
              "outlinewidth": 0,
              "ticks": ""
             }
            },
            "type": "scattergeo"
           }
          ],
          "scattergl": [
           {
            "marker": {
             "colorbar": {
              "outlinewidth": 0,
              "ticks": ""
             }
            },
            "type": "scattergl"
           }
          ],
          "scattermapbox": [
           {
            "marker": {
             "colorbar": {
              "outlinewidth": 0,
              "ticks": ""
             }
            },
            "type": "scattermapbox"
           }
          ],
          "scatterpolar": [
           {
            "marker": {
             "colorbar": {
              "outlinewidth": 0,
              "ticks": ""
             }
            },
            "type": "scatterpolar"
           }
          ],
          "scatterpolargl": [
           {
            "marker": {
             "colorbar": {
              "outlinewidth": 0,
              "ticks": ""
             }
            },
            "type": "scatterpolargl"
           }
          ],
          "scatterternary": [
           {
            "marker": {
             "colorbar": {
              "outlinewidth": 0,
              "ticks": ""
             }
            },
            "type": "scatterternary"
           }
          ],
          "surface": [
           {
            "colorbar": {
             "outlinewidth": 0,
             "ticks": ""
            },
            "colorscale": [
             [
              0,
              "#0d0887"
             ],
             [
              0.1111111111111111,
              "#46039f"
             ],
             [
              0.2222222222222222,
              "#7201a8"
             ],
             [
              0.3333333333333333,
              "#9c179e"
             ],
             [
              0.4444444444444444,
              "#bd3786"
             ],
             [
              0.5555555555555556,
              "#d8576b"
             ],
             [
              0.6666666666666666,
              "#ed7953"
             ],
             [
              0.7777777777777778,
              "#fb9f3a"
             ],
             [
              0.8888888888888888,
              "#fdca26"
             ],
             [
              1,
              "#f0f921"
             ]
            ],
            "type": "surface"
           }
          ],
          "table": [
           {
            "cells": {
             "fill": {
              "color": "#EBF0F8"
             },
             "line": {
              "color": "white"
             }
            },
            "header": {
             "fill": {
              "color": "#C8D4E3"
             },
             "line": {
              "color": "white"
             }
            },
            "type": "table"
           }
          ]
         },
         "layout": {
          "annotationdefaults": {
           "arrowcolor": "#2a3f5f",
           "arrowhead": 0,
           "arrowwidth": 1
          },
          "autotypenumbers": "strict",
          "coloraxis": {
           "colorbar": {
            "outlinewidth": 0,
            "ticks": ""
           }
          },
          "colorscale": {
           "diverging": [
            [
             0,
             "#8e0152"
            ],
            [
             0.1,
             "#c51b7d"
            ],
            [
             0.2,
             "#de77ae"
            ],
            [
             0.3,
             "#f1b6da"
            ],
            [
             0.4,
             "#fde0ef"
            ],
            [
             0.5,
             "#f7f7f7"
            ],
            [
             0.6,
             "#e6f5d0"
            ],
            [
             0.7,
             "#b8e186"
            ],
            [
             0.8,
             "#7fbc41"
            ],
            [
             0.9,
             "#4d9221"
            ],
            [
             1,
             "#276419"
            ]
           ],
           "sequential": [
            [
             0,
             "#0d0887"
            ],
            [
             0.1111111111111111,
             "#46039f"
            ],
            [
             0.2222222222222222,
             "#7201a8"
            ],
            [
             0.3333333333333333,
             "#9c179e"
            ],
            [
             0.4444444444444444,
             "#bd3786"
            ],
            [
             0.5555555555555556,
             "#d8576b"
            ],
            [
             0.6666666666666666,
             "#ed7953"
            ],
            [
             0.7777777777777778,
             "#fb9f3a"
            ],
            [
             0.8888888888888888,
             "#fdca26"
            ],
            [
             1,
             "#f0f921"
            ]
           ],
           "sequentialminus": [
            [
             0,
             "#0d0887"
            ],
            [
             0.1111111111111111,
             "#46039f"
            ],
            [
             0.2222222222222222,
             "#7201a8"
            ],
            [
             0.3333333333333333,
             "#9c179e"
            ],
            [
             0.4444444444444444,
             "#bd3786"
            ],
            [
             0.5555555555555556,
             "#d8576b"
            ],
            [
             0.6666666666666666,
             "#ed7953"
            ],
            [
             0.7777777777777778,
             "#fb9f3a"
            ],
            [
             0.8888888888888888,
             "#fdca26"
            ],
            [
             1,
             "#f0f921"
            ]
           ]
          },
          "colorway": [
           "#636efa",
           "#EF553B",
           "#00cc96",
           "#ab63fa",
           "#FFA15A",
           "#19d3f3",
           "#FF6692",
           "#B6E880",
           "#FF97FF",
           "#FECB52"
          ],
          "font": {
           "color": "#2a3f5f"
          },
          "geo": {
           "bgcolor": "white",
           "lakecolor": "white",
           "landcolor": "#E5ECF6",
           "showlakes": true,
           "showland": true,
           "subunitcolor": "white"
          },
          "hoverlabel": {
           "align": "left"
          },
          "hovermode": "closest",
          "mapbox": {
           "style": "light"
          },
          "paper_bgcolor": "white",
          "plot_bgcolor": "#E5ECF6",
          "polar": {
           "angularaxis": {
            "gridcolor": "white",
            "linecolor": "white",
            "ticks": ""
           },
           "bgcolor": "#E5ECF6",
           "radialaxis": {
            "gridcolor": "white",
            "linecolor": "white",
            "ticks": ""
           }
          },
          "scene": {
           "xaxis": {
            "backgroundcolor": "#E5ECF6",
            "gridcolor": "white",
            "gridwidth": 2,
            "linecolor": "white",
            "showbackground": true,
            "ticks": "",
            "zerolinecolor": "white"
           },
           "yaxis": {
            "backgroundcolor": "#E5ECF6",
            "gridcolor": "white",
            "gridwidth": 2,
            "linecolor": "white",
            "showbackground": true,
            "ticks": "",
            "zerolinecolor": "white"
           },
           "zaxis": {
            "backgroundcolor": "#E5ECF6",
            "gridcolor": "white",
            "gridwidth": 2,
            "linecolor": "white",
            "showbackground": true,
            "ticks": "",
            "zerolinecolor": "white"
           }
          },
          "shapedefaults": {
           "line": {
            "color": "#2a3f5f"
           }
          },
          "ternary": {
           "aaxis": {
            "gridcolor": "white",
            "linecolor": "white",
            "ticks": ""
           },
           "baxis": {
            "gridcolor": "white",
            "linecolor": "white",
            "ticks": ""
           },
           "bgcolor": "#E5ECF6",
           "caxis": {
            "gridcolor": "white",
            "linecolor": "white",
            "ticks": ""
           }
          },
          "title": {
           "x": 0.05
          },
          "xaxis": {
           "automargin": true,
           "gridcolor": "white",
           "linecolor": "white",
           "ticks": "",
           "title": {
            "standoff": 15
           },
           "zerolinecolor": "white",
           "zerolinewidth": 2
          },
          "yaxis": {
           "automargin": true,
           "gridcolor": "white",
           "linecolor": "white",
           "ticks": "",
           "title": {
            "standoff": 15
           },
           "zerolinecolor": "white",
           "zerolinewidth": 2
          }
         }
        }
       }
      }
     },
     "metadata": {},
     "output_type": "display_data"
    }
   ],
   "source": [
    "# Plot hidden activity in 3d PCA space\n",
    "fig = go.Figure([go.Scatter3d(\n",
    "    x=df['pca_0'], y=df['pca_1'], z=df['pca_2'],\n",
    "    mode='lines'\n",
    ") for df in dfs])\n",
    "figure_adjustments_trace(fig)\n",
    "for ii in range(2):\n",
    "    fig.data[ii]['line'] = dict(\n",
    "        width=6, color=df.loc[:175,'time'],\n",
    "        colorscale=['Reds_r','Blues_r'][ii],\n",
    "        cmin=0, cmax=1.75\n",
    "    )\n",
    "fig"
   ]
  }
 ],
 "metadata": {
  "kernelspec": {
   "display_name": "Python 3",
   "language": "python",
   "name": "python3"
  },
  "language_info": {
   "codemirror_mode": {
    "name": "ipython",
    "version": 3
   },
   "file_extension": ".py",
   "mimetype": "text/x-python",
   "name": "python",
   "nbconvert_exporter": "python",
   "pygments_lexer": "ipython3",
   "version": "3.9.0"
  }
 },
 "nbformat": 4,
 "nbformat_minor": 5
}
